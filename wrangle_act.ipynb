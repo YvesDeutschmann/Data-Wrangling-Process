{
 "cells": [
  {
   "cell_type": "code",
   "execution_count": 67,
   "metadata": {},
   "outputs": [],
   "source": [
    "import pandas as pd\n",
    "import numpy as np\n",
    "import os\n",
    "import requests\n",
    "import tweepy\n",
    "import json\n",
    "from functools import reduce\n",
    "from plotnine import *"
   ]
  },
  {
   "cell_type": "markdown",
   "metadata": {},
   "source": [
    "## Gathering Data for this Project"
   ]
  },
  {
   "cell_type": "markdown",
   "metadata": {},
   "source": [
    "### The WeRateDogs Twitter archive\n",
    "- manually downloaded\n",
    "- stored as `twitter-archive-enhanced.csv`"
   ]
  },
  {
   "cell_type": "code",
   "execution_count": 3,
   "metadata": {},
   "outputs": [],
   "source": [
    "archive = pd.read_csv('twitter-archive-enhanced.csv')"
   ]
  },
  {
   "cell_type": "markdown",
   "metadata": {},
   "source": [
    "### The tweet image predictions\n",
    "- what breed of dog (or other object, animal, etc.) is present in each tweet according to a neural network \n",
    "- file (image_predictions.tsv) should be downloaded programmatically (using `Requests library`)\n",
    "- URL: `https://d17h27t6h515a5.cloudfront.net/topher/2017/August/599fd2ad_image-predictions/image-predictions.tsv`"
   ]
  },
  {
   "cell_type": "code",
   "execution_count": 4,
   "metadata": {},
   "outputs": [],
   "source": [
    "url = 'https://d17h27t6h515a5.cloudfront.net/topher/2017/August/599fd2ad_image-predictions/image-predictions.tsv'\n",
    "\n",
    "response = requests.get(url)\n",
    "with open(os.path.join(url.split('/')[-1]), mode='wb') as file:\n",
    "    file.write(response.content)\n",
    "\n",
    "images = pd.read_csv('image-predictions.tsv', sep='\\t')"
   ]
  },
  {
   "cell_type": "markdown",
   "metadata": {},
   "source": [
    "### retweet count and favorite (\"like\") count \n",
    "- *optional*: any additional data you find interesting \n",
    "- query the Twitter API for each tweet's JSON data using Python's `Tweepy library` \n",
    "- store each tweet's entire set of JSON data in a file called `tweet_json.txt` file \n",
    "- Each tweet's JSON data should be written to its own line \n",
    "- read this .txt file line by line into a pandas DataFrame with (at minimum) `tweet ID`, `retweet count`, and `favorite count`"
   ]
  },
  {
   "cell_type": "code",
   "execution_count": 4,
   "metadata": {},
   "outputs": [],
   "source": [
    "consumer_key = 'XYZ'\n",
    "consumer_secret = 'XYZ'\n",
    "access_token = 'XYZ'\n",
    "access_secret = 'XYZ'\n",
    "\n",
    "auth = tweepy.OAuthHandler(consumer_key, consumer_secret)\n",
    "auth.set_access_token(access_token, access_secret)\n",
    "\n",
    "api = tweepy.API(auth, wait_on_rate_limit=True, wait_on_rate_limit_notify=True)"
   ]
  },
  {
   "cell_type": "code",
   "execution_count": 8,
   "metadata": {},
   "outputs": [],
   "source": [
    "tweet_ids = archive.tweet_id.values"
   ]
  },
  {
   "cell_type": "code",
   "execution_count": 6,
   "metadata": {
    "scrolled": true
   },
   "outputs": [
    {
     "name": "stderr",
     "output_type": "stream",
     "text": [
      "Rate limit reached. Sleeping for: 451\n",
      "Rate limit reached. Sleeping for: 525\n"
     ]
    }
   ],
   "source": [
    "json_list = []\n",
    "errors = []\n",
    "\n",
    "for tweet_id in tweet_ids:\n",
    "    try:\n",
    "        tweet_json = api.get_status(tweet_id, tweet_mode='extended')._json\n",
    "        json_list.append(tweet_json)\n",
    "    except Exception as e:\n",
    "        errors.append((tweet_id, e))"
   ]
  },
  {
   "cell_type": "code",
   "execution_count": 12,
   "metadata": {},
   "outputs": [],
   "source": [
    "with open('tweet_json.txt', 'w') as file:\n",
    "    for item in json_list:\n",
    "        file.write(json.dumps(item) + '\\n')"
   ]
  },
  {
   "cell_type": "code",
   "execution_count": 5,
   "metadata": {},
   "outputs": [],
   "source": [
    "tweets = pd.read_json('tweet_json.txt', lines=True)\n",
    "tweets = tweets[['id', 'favorite_count', 'retweet_count']]"
   ]
  },
  {
   "cell_type": "markdown",
   "metadata": {},
   "source": [
    "## Assessing data\n",
    "\n",
    "*detect and document at least eight (8) quality issues and two (2) tidiness issues*\n",
    "\n",
    "**Key Points:**\n",
    "- only original ratings (no retweets) that have images\n",
    "- Cleaning includes merging individual pieces of data according to the rules of tidy data\n",
    "- The fact that the rating numerators are greater than the denominators does not need to be cleaned\n",
    "- You do not need to gather the tweets beyond August 1st, 2017"
   ]
  },
  {
   "cell_type": "code",
   "execution_count": 6,
   "metadata": {
    "scrolled": true
   },
   "outputs": [
    {
     "name": "stdout",
     "output_type": "stream",
     "text": [
      "<class 'pandas.core.frame.DataFrame'>\n",
      "RangeIndex: 2356 entries, 0 to 2355\n",
      "Data columns (total 17 columns):\n",
      "tweet_id                      2356 non-null int64\n",
      "in_reply_to_status_id         78 non-null float64\n",
      "in_reply_to_user_id           78 non-null float64\n",
      "timestamp                     2356 non-null object\n",
      "source                        2356 non-null object\n",
      "text                          2356 non-null object\n",
      "retweeted_status_id           181 non-null float64\n",
      "retweeted_status_user_id      181 non-null float64\n",
      "retweeted_status_timestamp    181 non-null object\n",
      "expanded_urls                 2297 non-null object\n",
      "rating_numerator              2356 non-null int64\n",
      "rating_denominator            2356 non-null int64\n",
      "name                          2356 non-null object\n",
      "doggo                         2356 non-null object\n",
      "floofer                       2356 non-null object\n",
      "pupper                        2356 non-null object\n",
      "puppo                         2356 non-null object\n",
      "dtypes: float64(4), int64(3), object(10)\n",
      "memory usage: 313.0+ KB\n"
     ]
    }
   ],
   "source": [
    "archive.info()"
   ]
  },
  {
   "cell_type": "code",
   "execution_count": 7,
   "metadata": {
    "scrolled": true
   },
   "outputs": [
    {
     "name": "stdout",
     "output_type": "stream",
     "text": [
      "<class 'pandas.core.frame.DataFrame'>\n",
      "RangeIndex: 2075 entries, 0 to 2074\n",
      "Data columns (total 12 columns):\n",
      "tweet_id    2075 non-null int64\n",
      "jpg_url     2075 non-null object\n",
      "img_num     2075 non-null int64\n",
      "p1          2075 non-null object\n",
      "p1_conf     2075 non-null float64\n",
      "p1_dog      2075 non-null bool\n",
      "p2          2075 non-null object\n",
      "p2_conf     2075 non-null float64\n",
      "p2_dog      2075 non-null bool\n",
      "p3          2075 non-null object\n",
      "p3_conf     2075 non-null float64\n",
      "p3_dog      2075 non-null bool\n",
      "dtypes: bool(3), float64(3), int64(2), object(4)\n",
      "memory usage: 152.1+ KB\n"
     ]
    }
   ],
   "source": [
    "images.info()"
   ]
  },
  {
   "cell_type": "code",
   "execution_count": 8,
   "metadata": {
    "scrolled": false
   },
   "outputs": [
    {
     "name": "stdout",
     "output_type": "stream",
     "text": [
      "<class 'pandas.core.frame.DataFrame'>\n",
      "RangeIndex: 2342 entries, 0 to 2341\n",
      "Data columns (total 3 columns):\n",
      "id                2342 non-null int64\n",
      "favorite_count    2342 non-null int64\n",
      "retweet_count     2342 non-null int64\n",
      "dtypes: int64(3)\n",
      "memory usage: 55.0 KB\n"
     ]
    }
   ],
   "source": [
    "tweets.info()"
   ]
  },
  {
   "cell_type": "code",
   "execution_count": 9,
   "metadata": {
    "scrolled": true
   },
   "outputs": [
    {
     "data": {
      "text/html": [
       "<div>\n",
       "<style scoped>\n",
       "    .dataframe tbody tr th:only-of-type {\n",
       "        vertical-align: middle;\n",
       "    }\n",
       "\n",
       "    .dataframe tbody tr th {\n",
       "        vertical-align: top;\n",
       "    }\n",
       "\n",
       "    .dataframe thead th {\n",
       "        text-align: right;\n",
       "    }\n",
       "</style>\n",
       "<table border=\"1\" class=\"dataframe\">\n",
       "  <thead>\n",
       "    <tr style=\"text-align: right;\">\n",
       "      <th></th>\n",
       "      <th>doggo</th>\n",
       "      <th>floofer</th>\n",
       "      <th>pupper</th>\n",
       "      <th>puppo</th>\n",
       "    </tr>\n",
       "  </thead>\n",
       "  <tbody>\n",
       "    <tr>\n",
       "      <th>0</th>\n",
       "      <td>None</td>\n",
       "      <td>None</td>\n",
       "      <td>None</td>\n",
       "      <td>None</td>\n",
       "    </tr>\n",
       "    <tr>\n",
       "      <th>1</th>\n",
       "      <td>None</td>\n",
       "      <td>None</td>\n",
       "      <td>None</td>\n",
       "      <td>None</td>\n",
       "    </tr>\n",
       "    <tr>\n",
       "      <th>2</th>\n",
       "      <td>None</td>\n",
       "      <td>None</td>\n",
       "      <td>None</td>\n",
       "      <td>None</td>\n",
       "    </tr>\n",
       "    <tr>\n",
       "      <th>3</th>\n",
       "      <td>None</td>\n",
       "      <td>None</td>\n",
       "      <td>None</td>\n",
       "      <td>None</td>\n",
       "    </tr>\n",
       "    <tr>\n",
       "      <th>4</th>\n",
       "      <td>None</td>\n",
       "      <td>None</td>\n",
       "      <td>None</td>\n",
       "      <td>None</td>\n",
       "    </tr>\n",
       "    <tr>\n",
       "      <th>5</th>\n",
       "      <td>None</td>\n",
       "      <td>None</td>\n",
       "      <td>None</td>\n",
       "      <td>None</td>\n",
       "    </tr>\n",
       "    <tr>\n",
       "      <th>6</th>\n",
       "      <td>None</td>\n",
       "      <td>None</td>\n",
       "      <td>None</td>\n",
       "      <td>None</td>\n",
       "    </tr>\n",
       "    <tr>\n",
       "      <th>7</th>\n",
       "      <td>None</td>\n",
       "      <td>None</td>\n",
       "      <td>None</td>\n",
       "      <td>None</td>\n",
       "    </tr>\n",
       "    <tr>\n",
       "      <th>8</th>\n",
       "      <td>None</td>\n",
       "      <td>None</td>\n",
       "      <td>None</td>\n",
       "      <td>None</td>\n",
       "    </tr>\n",
       "    <tr>\n",
       "      <th>9</th>\n",
       "      <td>doggo</td>\n",
       "      <td>None</td>\n",
       "      <td>None</td>\n",
       "      <td>None</td>\n",
       "    </tr>\n",
       "    <tr>\n",
       "      <th>10</th>\n",
       "      <td>None</td>\n",
       "      <td>None</td>\n",
       "      <td>None</td>\n",
       "      <td>None</td>\n",
       "    </tr>\n",
       "    <tr>\n",
       "      <th>11</th>\n",
       "      <td>None</td>\n",
       "      <td>None</td>\n",
       "      <td>None</td>\n",
       "      <td>None</td>\n",
       "    </tr>\n",
       "    <tr>\n",
       "      <th>12</th>\n",
       "      <td>None</td>\n",
       "      <td>None</td>\n",
       "      <td>None</td>\n",
       "      <td>puppo</td>\n",
       "    </tr>\n",
       "    <tr>\n",
       "      <th>13</th>\n",
       "      <td>None</td>\n",
       "      <td>None</td>\n",
       "      <td>None</td>\n",
       "      <td>None</td>\n",
       "    </tr>\n",
       "    <tr>\n",
       "      <th>14</th>\n",
       "      <td>None</td>\n",
       "      <td>None</td>\n",
       "      <td>None</td>\n",
       "      <td>puppo</td>\n",
       "    </tr>\n",
       "    <tr>\n",
       "      <th>15</th>\n",
       "      <td>None</td>\n",
       "      <td>None</td>\n",
       "      <td>None</td>\n",
       "      <td>None</td>\n",
       "    </tr>\n",
       "    <tr>\n",
       "      <th>16</th>\n",
       "      <td>None</td>\n",
       "      <td>None</td>\n",
       "      <td>None</td>\n",
       "      <td>None</td>\n",
       "    </tr>\n",
       "    <tr>\n",
       "      <th>17</th>\n",
       "      <td>None</td>\n",
       "      <td>None</td>\n",
       "      <td>None</td>\n",
       "      <td>None</td>\n",
       "    </tr>\n",
       "    <tr>\n",
       "      <th>18</th>\n",
       "      <td>None</td>\n",
       "      <td>None</td>\n",
       "      <td>None</td>\n",
       "      <td>None</td>\n",
       "    </tr>\n",
       "    <tr>\n",
       "      <th>19</th>\n",
       "      <td>None</td>\n",
       "      <td>None</td>\n",
       "      <td>None</td>\n",
       "      <td>None</td>\n",
       "    </tr>\n",
       "  </tbody>\n",
       "</table>\n",
       "</div>"
      ],
      "text/plain": [
       "    doggo floofer pupper  puppo\n",
       "0    None    None   None   None\n",
       "1    None    None   None   None\n",
       "2    None    None   None   None\n",
       "3    None    None   None   None\n",
       "4    None    None   None   None\n",
       "5    None    None   None   None\n",
       "6    None    None   None   None\n",
       "7    None    None   None   None\n",
       "8    None    None   None   None\n",
       "9   doggo    None   None   None\n",
       "10   None    None   None   None\n",
       "11   None    None   None   None\n",
       "12   None    None   None  puppo\n",
       "13   None    None   None   None\n",
       "14   None    None   None  puppo\n",
       "15   None    None   None   None\n",
       "16   None    None   None   None\n",
       "17   None    None   None   None\n",
       "18   None    None   None   None\n",
       "19   None    None   None   None"
      ]
     },
     "execution_count": 9,
     "metadata": {},
     "output_type": "execute_result"
    }
   ],
   "source": [
    "archive[['doggo', 'floofer', 'pupper', 'puppo']].head(20)"
   ]
  },
  {
   "cell_type": "code",
   "execution_count": 10,
   "metadata": {
    "scrolled": true
   },
   "outputs": [
    {
     "data": {
      "text/html": [
       "<div>\n",
       "<style scoped>\n",
       "    .dataframe tbody tr th:only-of-type {\n",
       "        vertical-align: middle;\n",
       "    }\n",
       "\n",
       "    .dataframe tbody tr th {\n",
       "        vertical-align: top;\n",
       "    }\n",
       "\n",
       "    .dataframe thead th {\n",
       "        text-align: right;\n",
       "    }\n",
       "</style>\n",
       "<table border=\"1\" class=\"dataframe\">\n",
       "  <thead>\n",
       "    <tr style=\"text-align: right;\">\n",
       "      <th></th>\n",
       "      <th>text</th>\n",
       "      <th>rating_numerator</th>\n",
       "      <th>rating_denominator</th>\n",
       "    </tr>\n",
       "  </thead>\n",
       "  <tbody>\n",
       "    <tr>\n",
       "      <th>313</th>\n",
       "      <td>@jonnysun @Lin_Manuel ok jomny I know you're e...</td>\n",
       "      <td>960</td>\n",
       "      <td>0</td>\n",
       "    </tr>\n",
       "    <tr>\n",
       "      <th>342</th>\n",
       "      <td>@docmisterio account started on 11/15/15</td>\n",
       "      <td>11</td>\n",
       "      <td>15</td>\n",
       "    </tr>\n",
       "    <tr>\n",
       "      <th>433</th>\n",
       "      <td>The floofs have been released I repeat the flo...</td>\n",
       "      <td>84</td>\n",
       "      <td>70</td>\n",
       "    </tr>\n",
       "    <tr>\n",
       "      <th>516</th>\n",
       "      <td>Meet Sam. She smiles 24/7 &amp;amp; secretly aspir...</td>\n",
       "      <td>24</td>\n",
       "      <td>7</td>\n",
       "    </tr>\n",
       "    <tr>\n",
       "      <th>784</th>\n",
       "      <td>RT @dog_rates: After so many requests, this is...</td>\n",
       "      <td>9</td>\n",
       "      <td>11</td>\n",
       "    </tr>\n",
       "    <tr>\n",
       "      <th>902</th>\n",
       "      <td>Why does this never happen at my front door......</td>\n",
       "      <td>165</td>\n",
       "      <td>150</td>\n",
       "    </tr>\n",
       "    <tr>\n",
       "      <th>1068</th>\n",
       "      <td>After so many requests, this is Bretagne. She ...</td>\n",
       "      <td>9</td>\n",
       "      <td>11</td>\n",
       "    </tr>\n",
       "    <tr>\n",
       "      <th>1120</th>\n",
       "      <td>Say hello to this unbelievably well behaved sq...</td>\n",
       "      <td>204</td>\n",
       "      <td>170</td>\n",
       "    </tr>\n",
       "    <tr>\n",
       "      <th>1165</th>\n",
       "      <td>Happy 4/20 from the squad! 13/10 for all https...</td>\n",
       "      <td>4</td>\n",
       "      <td>20</td>\n",
       "    </tr>\n",
       "    <tr>\n",
       "      <th>1202</th>\n",
       "      <td>This is Bluebert. He just saw that both #Final...</td>\n",
       "      <td>50</td>\n",
       "      <td>50</td>\n",
       "    </tr>\n",
       "    <tr>\n",
       "      <th>1228</th>\n",
       "      <td>Happy Saturday here's 9 puppers on a bench. 99...</td>\n",
       "      <td>99</td>\n",
       "      <td>90</td>\n",
       "    </tr>\n",
       "    <tr>\n",
       "      <th>1254</th>\n",
       "      <td>Here's a brigade of puppers. All look very pre...</td>\n",
       "      <td>80</td>\n",
       "      <td>80</td>\n",
       "    </tr>\n",
       "    <tr>\n",
       "      <th>1274</th>\n",
       "      <td>From left to right:\\nCletus, Jerome, Alejandro...</td>\n",
       "      <td>45</td>\n",
       "      <td>50</td>\n",
       "    </tr>\n",
       "    <tr>\n",
       "      <th>1351</th>\n",
       "      <td>Here is a whole flock of puppers.  60/50 I'll ...</td>\n",
       "      <td>60</td>\n",
       "      <td>50</td>\n",
       "    </tr>\n",
       "    <tr>\n",
       "      <th>1433</th>\n",
       "      <td>Happy Wednesday here's a bucket of pups. 44/40...</td>\n",
       "      <td>44</td>\n",
       "      <td>40</td>\n",
       "    </tr>\n",
       "    <tr>\n",
       "      <th>1598</th>\n",
       "      <td>Yes I do realize a rating of 4/20 would've bee...</td>\n",
       "      <td>4</td>\n",
       "      <td>20</td>\n",
       "    </tr>\n",
       "    <tr>\n",
       "      <th>1634</th>\n",
       "      <td>Two sneaky puppers were not initially seen, mo...</td>\n",
       "      <td>143</td>\n",
       "      <td>130</td>\n",
       "    </tr>\n",
       "    <tr>\n",
       "      <th>1635</th>\n",
       "      <td>Someone help the girl is being mugged. Several...</td>\n",
       "      <td>121</td>\n",
       "      <td>110</td>\n",
       "    </tr>\n",
       "    <tr>\n",
       "      <th>1662</th>\n",
       "      <td>This is Darrel. He just robbed a 7/11 and is i...</td>\n",
       "      <td>7</td>\n",
       "      <td>11</td>\n",
       "    </tr>\n",
       "    <tr>\n",
       "      <th>1663</th>\n",
       "      <td>I'm aware that I could've said 20/16, but here...</td>\n",
       "      <td>20</td>\n",
       "      <td>16</td>\n",
       "    </tr>\n",
       "    <tr>\n",
       "      <th>1779</th>\n",
       "      <td>IT'S PUPPERGEDDON. Total of 144/120 ...I think...</td>\n",
       "      <td>144</td>\n",
       "      <td>120</td>\n",
       "    </tr>\n",
       "    <tr>\n",
       "      <th>1843</th>\n",
       "      <td>Here we have an entire platoon of puppers. Tot...</td>\n",
       "      <td>88</td>\n",
       "      <td>80</td>\n",
       "    </tr>\n",
       "    <tr>\n",
       "      <th>2335</th>\n",
       "      <td>This is an Albanian 3 1/2 legged  Episcopalian...</td>\n",
       "      <td>1</td>\n",
       "      <td>2</td>\n",
       "    </tr>\n",
       "  </tbody>\n",
       "</table>\n",
       "</div>"
      ],
      "text/plain": [
       "                                                   text  rating_numerator  \\\n",
       "313   @jonnysun @Lin_Manuel ok jomny I know you're e...               960   \n",
       "342            @docmisterio account started on 11/15/15                11   \n",
       "433   The floofs have been released I repeat the flo...                84   \n",
       "516   Meet Sam. She smiles 24/7 &amp; secretly aspir...                24   \n",
       "784   RT @dog_rates: After so many requests, this is...                 9   \n",
       "902   Why does this never happen at my front door......               165   \n",
       "1068  After so many requests, this is Bretagne. She ...                 9   \n",
       "1120  Say hello to this unbelievably well behaved sq...               204   \n",
       "1165  Happy 4/20 from the squad! 13/10 for all https...                 4   \n",
       "1202  This is Bluebert. He just saw that both #Final...                50   \n",
       "1228  Happy Saturday here's 9 puppers on a bench. 99...                99   \n",
       "1254  Here's a brigade of puppers. All look very pre...                80   \n",
       "1274  From left to right:\\nCletus, Jerome, Alejandro...                45   \n",
       "1351  Here is a whole flock of puppers.  60/50 I'll ...                60   \n",
       "1433  Happy Wednesday here's a bucket of pups. 44/40...                44   \n",
       "1598  Yes I do realize a rating of 4/20 would've bee...                 4   \n",
       "1634  Two sneaky puppers were not initially seen, mo...               143   \n",
       "1635  Someone help the girl is being mugged. Several...               121   \n",
       "1662  This is Darrel. He just robbed a 7/11 and is i...                 7   \n",
       "1663  I'm aware that I could've said 20/16, but here...                20   \n",
       "1779  IT'S PUPPERGEDDON. Total of 144/120 ...I think...               144   \n",
       "1843  Here we have an entire platoon of puppers. Tot...                88   \n",
       "2335  This is an Albanian 3 1/2 legged  Episcopalian...                 1   \n",
       "\n",
       "      rating_denominator  \n",
       "313                    0  \n",
       "342                   15  \n",
       "433                   70  \n",
       "516                    7  \n",
       "784                   11  \n",
       "902                  150  \n",
       "1068                  11  \n",
       "1120                 170  \n",
       "1165                  20  \n",
       "1202                  50  \n",
       "1228                  90  \n",
       "1254                  80  \n",
       "1274                  50  \n",
       "1351                  50  \n",
       "1433                  40  \n",
       "1598                  20  \n",
       "1634                 130  \n",
       "1635                 110  \n",
       "1662                  11  \n",
       "1663                  16  \n",
       "1779                 120  \n",
       "1843                  80  \n",
       "2335                   2  "
      ]
     },
     "execution_count": 10,
     "metadata": {},
     "output_type": "execute_result"
    }
   ],
   "source": [
    "archive.loc[archive.rating_denominator != 10][['text', 'rating_numerator', 'rating_denominator']]"
   ]
  },
  {
   "cell_type": "code",
   "execution_count": 11,
   "metadata": {
    "scrolled": true
   },
   "outputs": [
    {
     "data": {
      "text/plain": [
       "None         745\n",
       "a             55\n",
       "Charlie       12\n",
       "Lucy          11\n",
       "Oliver        11\n",
       "Cooper        11\n",
       "Tucker        10\n",
       "Lola          10\n",
       "Penny         10\n",
       "Bo             9\n",
       "Winston        9\n",
       "the            8\n",
       "Sadie          8\n",
       "Daisy          7\n",
       "an             7\n",
       "Bailey         7\n",
       "Buddy          7\n",
       "Toby           7\n",
       "Jax            6\n",
       "Leo            6\n",
       "Bella          6\n",
       "Jack           6\n",
       "Rusty          6\n",
       "Stanley        6\n",
       "Koda           6\n",
       "Scout          6\n",
       "Oscar          6\n",
       "Milo           6\n",
       "Dave           6\n",
       "Bentley        5\n",
       "            ... \n",
       "Ben            1\n",
       "Kane           1\n",
       "Bradley        1\n",
       "Berb           1\n",
       "Jazz           1\n",
       "Glacier        1\n",
       "Jangle         1\n",
       "Goose          1\n",
       "Gordon         1\n",
       "Georgie        1\n",
       "Jaycob         1\n",
       "Beckham        1\n",
       "Willow         1\n",
       "Brockly        1\n",
       "JD             1\n",
       "Ricky          1\n",
       "Sweet          1\n",
       "Mairi          1\n",
       "Adele          1\n",
       "Glenn          1\n",
       "Chuq           1\n",
       "Marlee         1\n",
       "Herb           1\n",
       "Enchilada      1\n",
       "Buckley        1\n",
       "Tango          1\n",
       "Lipton         1\n",
       "Spencer        1\n",
       "Freddery       1\n",
       "Ester          1\n",
       "Name: name, Length: 957, dtype: int64"
      ]
     },
     "execution_count": 11,
     "metadata": {},
     "output_type": "execute_result"
    }
   ],
   "source": [
    "archive.name.value_counts()"
   ]
  },
  {
   "cell_type": "code",
   "execution_count": 12,
   "metadata": {
    "scrolled": true
   },
   "outputs": [
    {
     "data": {
      "text/plain": [
       "golden_retriever             150\n",
       "Labrador_retriever           100\n",
       "Pembroke                      89\n",
       "Chihuahua                     83\n",
       "pug                           57\n",
       "chow                          44\n",
       "Samoyed                       43\n",
       "toy_poodle                    39\n",
       "Pomeranian                    38\n",
       "malamute                      30\n",
       "cocker_spaniel                30\n",
       "French_bulldog                26\n",
       "Chesapeake_Bay_retriever      23\n",
       "miniature_pinscher            23\n",
       "seat_belt                     22\n",
       "Siberian_husky                20\n",
       "German_shepherd               20\n",
       "Staffordshire_bullterrier     20\n",
       "Cardigan                      19\n",
       "web_site                      19\n",
       "Name: p1, dtype: int64"
      ]
     },
     "execution_count": 12,
     "metadata": {},
     "output_type": "execute_result"
    }
   ],
   "source": [
    "images.p1.value_counts().head(20)"
   ]
  },
  {
   "cell_type": "markdown",
   "metadata": {},
   "source": [
    "### Assessment findings:\n",
    "`archive`:\n",
    "#### Tidiness:\n",
    "- dog-stage should be a variable (*doggo, floofer, pupper, puppo*)\n",
    "- `nominator`and `denominator`should be one variable\n",
    "- columns for retweets are useless after removing retweeted rows\n",
    "\n",
    "#### Quality: \n",
    "- `twitter_id`s are `int` instead of `string`\n",
    "- Erroneous datatypes for timestamp\n",
    "- Erroneous datatypes for dog-stage\n",
    "- some ratings don't have a related image\n",
    "- data includes rows from retweets\n",
    "- wrong ratings\n",
    "- wrong and missing names\n",
    "- data in `source` is HTML code\n",
    "\n",
    "`images`:\n",
    "#### Tidiness:\n",
    "- table should be part of `archive`\n",
    "\n",
    "#### Quality:\n",
    "- `twitter_id` is `int` instead of `string`\n",
    "\n",
    "`tweets`:\n",
    "- should be part of `archive`"
   ]
  },
  {
   "cell_type": "markdown",
   "metadata": {},
   "source": [
    "## Cleaning Data for this Project\n",
    "\n",
    "- Clean the  documented issues\n",
    "- The result should be a high quality and tidy master pandas DataFrame (or DataFrames, if appropriate)\n",
    "- the issues that satisfy the Project Motivation must be cleaned"
   ]
  },
  {
   "cell_type": "code",
   "execution_count": 13,
   "metadata": {},
   "outputs": [],
   "source": [
    "archive_clean=archive.copy()\n",
    "images_clean=images.copy()\n",
    "tweets_clean=tweets.copy()"
   ]
  },
  {
   "cell_type": "markdown",
   "metadata": {},
   "source": [
    "### 1. `images` and `tweets` should be part of `archive` / datatype of `tweet_id`\n",
    "#### Define:\n",
    "\n",
    "- transform `tweet_id`s in `str`\n",
    "- set `tweet_id`as index\n",
    "- join `images` and `tweets` dataframes\n",
    "\n",
    "#### Code:"
   ]
  },
  {
   "cell_type": "code",
   "execution_count": 14,
   "metadata": {},
   "outputs": [],
   "source": [
    "tweets_clean.columns = ['tweet_id', 'favorite_count', 'retweet_count']\n",
    "\n",
    "tables = [archive_clean, images_clean, tweets_clean]\n",
    "for table in tables:\n",
    "    table.tweet_id = table.tweet_id.astype(str)\n",
    "    table.set_index('tweet_id', inplace=True)\n",
    "\n",
    "df_clean = archive_clean.join([images_clean, tweets_clean], how = 'inner')"
   ]
  },
  {
   "cell_type": "markdown",
   "metadata": {},
   "source": [
    "#### Test:"
   ]
  },
  {
   "cell_type": "code",
   "execution_count": 15,
   "metadata": {},
   "outputs": [
    {
     "data": {
      "text/plain": [
       "Index(['in_reply_to_status_id', 'in_reply_to_user_id', 'timestamp', 'source',\n",
       "       'text', 'retweeted_status_id', 'retweeted_status_user_id',\n",
       "       'retweeted_status_timestamp', 'expanded_urls', 'rating_numerator',\n",
       "       'rating_denominator', 'name', 'doggo', 'floofer', 'pupper', 'puppo',\n",
       "       'jpg_url', 'img_num', 'p1', 'p1_conf', 'p1_dog', 'p2', 'p2_conf',\n",
       "       'p2_dog', 'p3', 'p3_conf', 'p3_dog', 'favorite_count', 'retweet_count'],\n",
       "      dtype='object')"
      ]
     },
     "execution_count": 15,
     "metadata": {},
     "output_type": "execute_result"
    }
   ],
   "source": [
    "df_clean.columns"
   ]
  },
  {
   "cell_type": "code",
   "execution_count": 16,
   "metadata": {},
   "outputs": [
    {
     "data": {
      "text/plain": [
       "str"
      ]
     },
     "execution_count": 16,
     "metadata": {},
     "output_type": "execute_result"
    }
   ],
   "source": [
    "type(df_clean.index[0])"
   ]
  },
  {
   "cell_type": "markdown",
   "metadata": {},
   "source": [
    "### 2. data includes rows from retweets and without images\n",
    "#### Define: \n",
    "\n",
    "- filter dataframe for original posts with images\n",
    "\n",
    "#### Code:"
   ]
  },
  {
   "cell_type": "code",
   "execution_count": 17,
   "metadata": {},
   "outputs": [],
   "source": [
    "df_clean = df_clean.loc[\n",
    "    (df_clean.retweeted_status_user_id.isnull()) &\n",
    "    (df_clean.in_reply_to_user_id.isnull()) &\n",
    "    (~df_clean.jpg_url.isnull())\n",
    "]"
   ]
  },
  {
   "cell_type": "markdown",
   "metadata": {},
   "source": [
    "#### Test:"
   ]
  },
  {
   "cell_type": "code",
   "execution_count": 18,
   "metadata": {},
   "outputs": [
    {
     "data": {
      "text/plain": [
       "retweeted_status_user_id    1970\n",
       "in_reply_to_user_id         1970\n",
       "jpg_url                        0\n",
       "dtype: int64"
      ]
     },
     "execution_count": 18,
     "metadata": {},
     "output_type": "execute_result"
    }
   ],
   "source": [
    "df_clean[['retweeted_status_user_id', 'in_reply_to_user_id', 'jpg_url']].isnull().sum()"
   ]
  },
  {
   "cell_type": "markdown",
   "metadata": {},
   "source": [
    "### 3. columns for retweets are useless after removing retweeted rows\n",
    "#### Define:\n",
    "\n",
    " - remove columns:`in_reply_to_status_id`, `in_reply_to_user_id`, `retweeted_status_id`, `retweeted_status_user_id`, `retweeted_status_timestamp`\n",
    " \n",
    "#### Code:"
   ]
  },
  {
   "cell_type": "code",
   "execution_count": 19,
   "metadata": {},
   "outputs": [],
   "source": [
    "df_clean.drop(\n",
    "    ['in_reply_to_user_id', 'in_reply_to_status_id', 'retweeted_status_id', \n",
    "     'retweeted_status_user_id','retweeted_status_timestamp'], \n",
    "    axis=1, inplace=True)"
   ]
  },
  {
   "cell_type": "markdown",
   "metadata": {},
   "source": [
    "#### Test:"
   ]
  },
  {
   "cell_type": "code",
   "execution_count": 20,
   "metadata": {},
   "outputs": [
    {
     "data": {
      "text/plain": [
       "Index(['timestamp', 'source', 'text', 'expanded_urls', 'rating_numerator',\n",
       "       'rating_denominator', 'name', 'doggo', 'floofer', 'pupper', 'puppo',\n",
       "       'jpg_url', 'img_num', 'p1', 'p1_conf', 'p1_dog', 'p2', 'p2_conf',\n",
       "       'p2_dog', 'p3', 'p3_conf', 'p3_dog', 'favorite_count', 'retweet_count'],\n",
       "      dtype='object')"
      ]
     },
     "execution_count": 20,
     "metadata": {},
     "output_type": "execute_result"
    }
   ],
   "source": [
    "df_clean.columns"
   ]
  },
  {
   "cell_type": "markdown",
   "metadata": {},
   "source": [
    "### 4. dog-stage should be a variable (doggo, floofer, pupper, puppo)\n",
    "#### Define:\n",
    "\n",
    "- melt doggo, floofer, pupper, puppo columns to dog-stage variable\n",
    "- drop columns doggo, floofer, pupper, puppo\n",
    "- transform dog-stage values to category type\n",
    "\n",
    "#### Code:"
   ]
  },
  {
   "cell_type": "code",
   "execution_count": 21,
   "metadata": {
    "scrolled": true
   },
   "outputs": [],
   "source": [
    "# gather dog_stage in one column\n",
    "dog_stage = pd.melt(df_clean.reset_index()[['tweet_id', 'doggo', 'floofer','pupper', 'puppo']],\n",
    "        id_vars= ['tweet_id'],\n",
    "        value_vars= ['doggo', 'floofer','pupper', 'puppo'],\n",
    "        value_name= 'dog_stage')\n",
    "# group by tweet_id and extract dog_stage for this tweet if available\n",
    "dog_stage = (dog_stage\n",
    "             .groupby('tweet_id')\n",
    "             .sum()\n",
    "             .dog_stage\n",
    "             .str.extract('(?P<dog_stage>(doggo)|(floofer)|(pupper)|(puppo))')['dog_stage']\n",
    "            )\n",
    "# join extracted dog_stage with dataframe\n",
    "df_clean = df_clean.join(dog_stage, on='tweet_id')\n",
    "# drop columns 'doggo', 'floofer','pupper', 'puppo'\n",
    "df_clean.drop(['doggo', 'floofer','pupper', 'puppo'], axis=1, inplace=True)\n",
    "# transform column values into categories\n",
    "df_clean.dog_stage= df_clean.dog_stage.astype('category')"
   ]
  },
  {
   "cell_type": "markdown",
   "metadata": {},
   "source": [
    "#### Test:"
   ]
  },
  {
   "cell_type": "code",
   "execution_count": 22,
   "metadata": {
    "scrolled": true
   },
   "outputs": [
    {
     "data": {
      "text/plain": [
       "pupper     201\n",
       "doggo       73\n",
       "puppo       22\n",
       "floofer      7\n",
       "Name: dog_stage, dtype: int64"
      ]
     },
     "execution_count": 22,
     "metadata": {},
     "output_type": "execute_result"
    }
   ],
   "source": [
    "df_clean.dog_stage.value_counts()"
   ]
  },
  {
   "cell_type": "code",
   "execution_count": 23,
   "metadata": {},
   "outputs": [
    {
     "data": {
      "text/plain": [
       "timestamp               object\n",
       "source                  object\n",
       "text                    object\n",
       "expanded_urls           object\n",
       "rating_numerator         int64\n",
       "rating_denominator       int64\n",
       "name                    object\n",
       "jpg_url                 object\n",
       "img_num                  int64\n",
       "p1                      object\n",
       "p1_conf                float64\n",
       "p1_dog                    bool\n",
       "p2                      object\n",
       "p2_conf                float64\n",
       "p2_dog                    bool\n",
       "p3                      object\n",
       "p3_conf                float64\n",
       "p3_dog                    bool\n",
       "favorite_count           int64\n",
       "retweet_count            int64\n",
       "dog_stage             category\n",
       "dtype: object"
      ]
     },
     "execution_count": 23,
     "metadata": {},
     "output_type": "execute_result"
    }
   ],
   "source": [
    "df_clean.dtypes"
   ]
  },
  {
   "cell_type": "markdown",
   "metadata": {},
   "source": [
    "### 5. Wrong names and ratings / nominator and denominator should be one variable\n",
    "#### Define: \n",
    "\n",
    "- extract `name`, `nominator`, `denominator` from tweet `text`\n",
    "- normalize ratings to denominator of 10\n",
    "- group results in one column\n",
    "- join resulting column with clean dataframe\n",
    "\n",
    "#### Code:"
   ]
  },
  {
   "cell_type": "code",
   "execution_count": 24,
   "metadata": {
    "scrolled": true
   },
   "outputs": [],
   "source": [
    "names_raw = df_clean.text.str.extract(r\"This\\sis\\s([A-Z][a-z]*)[.]|Meet\\s([A-Z][a-z]*)[.]|Say\\shello\\sto\\s([A-Z][a-z]*)[.]\")\n",
    "new_names = names_raw.stack().reset_index().drop('level_1', axis=1).set_index('tweet_id')\n",
    "new_names.columns = ['name']"
   ]
  },
  {
   "cell_type": "code",
   "execution_count": 25,
   "metadata": {
    "scrolled": false
   },
   "outputs": [],
   "source": [
    "ratings_raw = df_clean.text.str.extract(r\"(?P<nominator>\\d+(\\.\\d+)?)[/](?P<denominator>[1-9]*0)\").fillna(0)\n",
    "ratings_raw['rating_normalized'] = ratings_raw['nominator'].astype(float) / ratings_raw['denominator'].astype(int) * 10\n",
    "ratings = ratings_raw['rating_normalized']"
   ]
  },
  {
   "cell_type": "code",
   "execution_count": 26,
   "metadata": {},
   "outputs": [],
   "source": [
    "df_clean.drop(['name', 'rating_numerator', 'rating_denominator'], axis=1, inplace=True)\n",
    "df_clean = df_clean.join([new_names, ratings])"
   ]
  },
  {
   "cell_type": "markdown",
   "metadata": {},
   "source": [
    "#### Test:"
   ]
  },
  {
   "cell_type": "code",
   "execution_count": 27,
   "metadata": {},
   "outputs": [
    {
     "data": {
      "text/plain": [
       "Index(['timestamp', 'source', 'text', 'expanded_urls', 'jpg_url', 'img_num',\n",
       "       'p1', 'p1_conf', 'p1_dog', 'p2', 'p2_conf', 'p2_dog', 'p3', 'p3_conf',\n",
       "       'p3_dog', 'favorite_count', 'retweet_count', 'dog_stage', 'name',\n",
       "       'rating_normalized'],\n",
       "      dtype='object')"
      ]
     },
     "execution_count": 27,
     "metadata": {},
     "output_type": "execute_result"
    }
   ],
   "source": [
    "df_clean.columns"
   ]
  },
  {
   "cell_type": "code",
   "execution_count": 28,
   "metadata": {},
   "outputs": [
    {
     "data": {
      "text/plain": [
       "Charlie      10\n",
       "Cooper       10\n",
       "Lucy          9\n",
       "Tucker        9\n",
       "Oliver        9\n",
       "Winston       8\n",
       "Penny         8\n",
       "Toby          7\n",
       "Lola          7\n",
       "Daisy         7\n",
       "Koda          6\n",
       "Bella         6\n",
       "Stanley       6\n",
       "Sadie         6\n",
       "Leo           5\n",
       "Bailey        5\n",
       "Jax           5\n",
       "Louis         5\n",
       "Buddy         5\n",
       "Bo            5\n",
       "Rusty         5\n",
       "Scout         5\n",
       "Oscar         4\n",
       "Chip          4\n",
       "Alfie         4\n",
       "Chester       4\n",
       "Duke          4\n",
       "Finn          4\n",
       "Larry         4\n",
       "Phil          4\n",
       "             ..\n",
       "Lipton        1\n",
       "Spencer       1\n",
       "Freddery      1\n",
       "Glenn         1\n",
       "Lilly         1\n",
       "Goose         1\n",
       "Brockly       1\n",
       "Beckham       1\n",
       "Severus       1\n",
       "Jaycob        1\n",
       "Halo          1\n",
       "Daniel        1\n",
       "Mike          1\n",
       "Walker        1\n",
       "Erik          1\n",
       "Hubertson     1\n",
       "Biden         1\n",
       "Lolo          1\n",
       "Benny         1\n",
       "Wesley        1\n",
       "Derby         1\n",
       "Jareld        1\n",
       "Shelby        1\n",
       "Dotsy         1\n",
       "Dwight        1\n",
       "Chaz          1\n",
       "Ralphus       1\n",
       "Georgie       1\n",
       "Ken           1\n",
       "Happy         1\n",
       "Name: name, Length: 849, dtype: int64"
      ]
     },
     "execution_count": 28,
     "metadata": {},
     "output_type": "execute_result"
    }
   ],
   "source": [
    "df_clean.name.value_counts()"
   ]
  },
  {
   "cell_type": "code",
   "execution_count": 29,
   "metadata": {},
   "outputs": [
    {
     "data": {
      "text/plain": [
       "12.00      449\n",
       "10.00      420\n",
       "11.00      397\n",
       "13.00      253\n",
       "9.00       151\n",
       "8.00        95\n",
       "7.00        51\n",
       "14.00       34\n",
       "5.00        32\n",
       "6.00        32\n",
       "3.00        19\n",
       "4.00        15\n",
       "2.00        10\n",
       "1.00         4\n",
       "1776.00      1\n",
       "9.75         1\n",
       "0.00         1\n",
       "13.50        1\n",
       "11.26        1\n",
       "11.27        1\n",
       "420.00       1\n",
       "Name: rating_normalized, dtype: int64"
      ]
     },
     "execution_count": 29,
     "metadata": {},
     "output_type": "execute_result"
    }
   ],
   "source": [
    "df_clean.rating_normalized.value_counts()"
   ]
  },
  {
   "cell_type": "markdown",
   "metadata": {},
   "source": [
    "### 6. Erroneous datatypes for timestamp\n",
    "#### Define: \n",
    "\n",
    "- transform `timestamp` to datetime format\n",
    "\n",
    "#### Code:"
   ]
  },
  {
   "cell_type": "code",
   "execution_count": 30,
   "metadata": {},
   "outputs": [],
   "source": [
    "df_clean.timestamp = pd.to_datetime(df_clean.timestamp)"
   ]
  },
  {
   "cell_type": "markdown",
   "metadata": {},
   "source": [
    "#### Test:"
   ]
  },
  {
   "cell_type": "code",
   "execution_count": 31,
   "metadata": {},
   "outputs": [
    {
     "data": {
      "text/plain": [
       "timestamp            datetime64[ns]\n",
       "source                       object\n",
       "text                         object\n",
       "expanded_urls                object\n",
       "jpg_url                      object\n",
       "img_num                       int64\n",
       "p1                           object\n",
       "p1_conf                     float64\n",
       "p1_dog                         bool\n",
       "p2                           object\n",
       "p2_conf                     float64\n",
       "p2_dog                         bool\n",
       "p3                           object\n",
       "p3_conf                     float64\n",
       "p3_dog                         bool\n",
       "favorite_count                int64\n",
       "retweet_count                 int64\n",
       "dog_stage                  category\n",
       "name                         object\n",
       "rating_normalized           float64\n",
       "dtype: object"
      ]
     },
     "execution_count": 31,
     "metadata": {},
     "output_type": "execute_result"
    }
   ],
   "source": [
    "df_clean.dtypes"
   ]
  },
  {
   "cell_type": "markdown",
   "metadata": {},
   "source": [
    "### 7. data in `source` is HTML code\n",
    "#### Define:\n",
    "\n",
    "- extract source from code blocks\n",
    "- transform extracts to categorical type\n",
    "\n",
    "#### Code:"
   ]
  },
  {
   "cell_type": "code",
   "execution_count": 32,
   "metadata": {},
   "outputs": [
    {
     "data": {
      "text/plain": [
       "<a href=\"http://twitter.com/download/iphone\" rel=\"nofollow\">Twitter for iPhone</a>     1931\n",
       "<a href=\"http://twitter.com\" rel=\"nofollow\">Twitter Web Client</a>                       28\n",
       "<a href=\"https://about.twitter.com/products/tweetdeck\" rel=\"nofollow\">TweetDeck</a>      11\n",
       "Name: source, dtype: int64"
      ]
     },
     "execution_count": 32,
     "metadata": {},
     "output_type": "execute_result"
    }
   ],
   "source": [
    "df_clean.source.value_counts()"
   ]
  },
  {
   "cell_type": "code",
   "execution_count": 33,
   "metadata": {},
   "outputs": [],
   "source": [
    "sources = df_clean.source.str.extract(r\"(rel=\\\"nofollow\\\">(?P<source>\\w+\\s?\\w+\\s?\\w+)<\\/a>)\")\n",
    "df_clean.drop('source', axis=1, inplace=True)\n",
    "df_clean = df_clean.join(sources['source'])\n",
    "\n",
    "df_clean.source = df_clean.source.astype('category')"
   ]
  },
  {
   "cell_type": "markdown",
   "metadata": {},
   "source": [
    "#### Test:"
   ]
  },
  {
   "cell_type": "code",
   "execution_count": 34,
   "metadata": {},
   "outputs": [
    {
     "data": {
      "text/plain": [
       "Twitter for iPhone    1931\n",
       "Twitter Web Client      28\n",
       "TweetDeck               11\n",
       "Name: source, dtype: int64"
      ]
     },
     "execution_count": 34,
     "metadata": {},
     "output_type": "execute_result"
    }
   ],
   "source": [
    "df_clean.source.value_counts()"
   ]
  },
  {
   "cell_type": "code",
   "execution_count": 35,
   "metadata": {},
   "outputs": [
    {
     "data": {
      "text/plain": [
       "timestamp            datetime64[ns]\n",
       "text                         object\n",
       "expanded_urls                object\n",
       "jpg_url                      object\n",
       "img_num                       int64\n",
       "p1                           object\n",
       "p1_conf                     float64\n",
       "p1_dog                         bool\n",
       "p2                           object\n",
       "p2_conf                     float64\n",
       "p2_dog                         bool\n",
       "p3                           object\n",
       "p3_conf                     float64\n",
       "p3_dog                         bool\n",
       "favorite_count                int64\n",
       "retweet_count                 int64\n",
       "dog_stage                  category\n",
       "name                         object\n",
       "rating_normalized           float64\n",
       "source                     category\n",
       "dtype: object"
      ]
     },
     "execution_count": 35,
     "metadata": {},
     "output_type": "execute_result"
    }
   ],
   "source": [
    "df_clean.dtypes"
   ]
  },
  {
   "cell_type": "markdown",
   "metadata": {},
   "source": [
    "## Storing, Analyzing, and Visualizing Data for this Project\n",
    "\n",
    "- Store the clean DataFrame(s) in a CSV file with the main one named `twitter_archive_master.csv` \n",
    "- If additional files exist because multiple tables are required for tidiness, name these files appropriately \n",
    "- Additionally, you may store the cleaned data in a SQLite database (which is to be submitted as well if you do).\n",
    "\n",
    "**Analyze and visualize your wrangled data in your wrangle_act.ipynb Jupyter Notebook. At least three (3) insights and one (1) visualization must be produced.**"
   ]
  },
  {
   "cell_type": "markdown",
   "metadata": {},
   "source": [
    "### Store dataframe"
   ]
  },
  {
   "cell_type": "code",
   "execution_count": 36,
   "metadata": {},
   "outputs": [],
   "source": [
    "# store dataframe in twitter_archive_master.csv\n",
    "df_clean.to_csv('twitter_archive_master.csv')"
   ]
  },
  {
   "cell_type": "markdown",
   "metadata": {},
   "source": [
    "### Analyze data\n",
    "\n",
    "#### 1. Favorite dog breed along twitter followers:"
   ]
  },
  {
   "cell_type": "code",
   "execution_count": 74,
   "metadata": {},
   "outputs": [],
   "source": [
    "# find top10 dog breeds in tier1 image predictions\n",
    "top_breeds = list(df_clean.loc[df_clean.p1_dog == True].p1.value_counts().head(10).keys())\n",
    "# filter data for plot to only include top10 breeds\n",
    "data_p1 = df_clean.loc[df_clean.p1.isin(top_breeds)].groupby('p1').favorite_count.mean().reset_index()\n",
    "\n",
    "p1 = (\n",
    "    ggplot(aes(x = 'p1', y = 'favorite_count'), data = data_p1) +\n",
    "        geom_bar(stat= 'identity') +\n",
    "        theme(axis_text_x=element_text(rotation=90, hjust=1)) +\n",
    "        ggtitle('mean favorite count of top10 breed predictions') +\n",
    "        xlab('dog breed') +\n",
    "        ylab('mean favorite count')\n",
    "     )"
   ]
  },
  {
   "cell_type": "code",
   "execution_count": 75,
   "metadata": {},
   "outputs": [
    {
     "data": {
      "image/png": "[encoded data removed]",
      "text/plain": [
       "<Figure size 640x480 with 1 Axes>"
      ]
     },
     "metadata": {},
     "output_type": "display_data"
    },
    {
     "name": "stdout",
     "output_type": "stream",
     "text": [
      "<ggplot: (139486065612)>\n"
     ]
    }
   ],
   "source": [
    "print(p1)"
   ]
  },
  {
   "cell_type": "markdown",
   "metadata": {},
   "source": [
    "#### 2. best `dog_stage`:"
   ]
  },
  {
   "cell_type": "code",
   "execution_count": 77,
   "metadata": {},
   "outputs": [],
   "source": [
    "# remove outliers from data for plot\n",
    "data_p2 = df_clean.loc[df_clean.rating_normalized < 20]\n",
    "\n",
    "p2 = (\n",
    "    ggplot(aes(x = 'dog_stage', y= 'rating_normalized'), data_p2) +\n",
    "        geom_boxplot() +\n",
    "        ggtitle(\"Average ratings per dog stage\") +\n",
    "        xlab('dog stage') +\n",
    "        ylab('normalized rating')\n",
    ")"
   ]
  },
  {
   "cell_type": "code",
   "execution_count": 69,
   "metadata": {},
   "outputs": [
    {
     "data": {
      "image/png": "[encoded data removed]",
      "text/plain": [
       "<Figure size 640x480 with 1 Axes>"
      ]
     },
     "metadata": {},
     "output_type": "display_data"
    },
    {
     "name": "stdout",
     "output_type": "stream",
     "text": [
      "<ggplot: (139485989026)>\n"
     ]
    }
   ],
   "source": [
    "print(p2)"
   ]
  },
  {
   "cell_type": "markdown",
   "metadata": {},
   "source": [
    "#### 3. relation between `normalized rating` and `favorite count`:"
   ]
  },
  {
   "cell_type": "code",
   "execution_count": 87,
   "metadata": {},
   "outputs": [],
   "source": [
    "# we use the same data as in p2\n",
    "p3 = (\n",
    "    ggplot(aes(x= 'favorite_count', y = 'rating_normalized'), data = data_p2) +\n",
    "        geom_point(alpha = 0.1) +\n",
    "        geom_smooth(color= 'grey', alpha= 0.5)\n",
    ")"
   ]
  },
  {
   "cell_type": "code",
   "execution_count": 88,
   "metadata": {},
   "outputs": [
    {
     "data": {
      "image/png": "[encoded data removed]",
      "text/plain": [
       "<Figure size 640x480 with 1 Axes>"
      ]
     },
     "metadata": {},
     "output_type": "display_data"
    },
    {
     "name": "stdout",
     "output_type": "stream",
     "text": [
      "<ggplot: (-9223371897368706991)>\n"
     ]
    }
   ],
   "source": [
    "print(p3)"
   ]
  },
  {
   "cell_type": "markdown",
   "metadata": {},
   "source": [
    "## Reporting for this Project\n",
    "\n",
    "- Create a 300-600 word report called `wrangle_report.pdf` or `wrangle_report.html` that briefly describes your wrangling efforts\n",
    "- This is to be framed as an internal document\n",
    "\n",
    "- Create a 250-word-minimum report called `act_report.pdf` or `act_report.html` that communicates the insights and displays the visualization(s) produced from your wrangled data \n",
    "- This is to be framed as an external document, like a blog post or magazine article, for example"
   ]
  }
 ],
 "metadata": {
  "kernelspec": {
   "display_name": "Python 3",
   "language": "python",
   "name": "python3"
  },
  "language_info": {
   "codemirror_mode": {
    "name": "ipython",
    "version": 3
   },
   "file_extension": ".py",
   "mimetype": "text/x-python",
   "name": "python",
   "nbconvert_exporter": "python",
   "pygments_lexer": "ipython3",
   "version": "3.6.6"
  }
 },
 "nbformat": 4,
 "nbformat_minor": 2
}
